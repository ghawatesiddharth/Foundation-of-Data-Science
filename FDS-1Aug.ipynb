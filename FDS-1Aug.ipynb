{
 "cells": [
  {
   "cell_type": "code",
   "execution_count": 32,
   "id": "5ed95ce3",
   "metadata": {},
   "outputs": [],
   "source": [
    "# Name: Siddharth Ghawate\n",
    "# Roll no: 53\n",
    "# Batch: TY IT A(A3)\n",
    "# Assignmnet Title: FDS Lab Assignment 1\n",
    "import numpy as np"
   ]
  },
  {
   "cell_type": "code",
   "execution_count": null,
   "id": "e81d83cf",
   "metadata": {},
   "outputs": [
    {
     "data": {
      "text/plain": [
       "array([[ 1,  2,  3,  4,  5],\n",
       "       [ 6,  7,  8,  9, 10]])"
      ]
     },
     "execution_count": 33,
     "metadata": {},
     "output_type": "execute_result"
    }
   ],
   "source": [
    "#Create a 2D array\n",
    "arr1 = np.array([[1, 2, 3, 4, 5],[6,7,8,9,10]])\n",
    "arr1"
   ]
  },
  {
   "cell_type": "code",
   "execution_count": null,
   "id": "6b2e24e5",
   "metadata": {},
   "outputs": [
    {
     "data": {
      "text/plain": [
       "2"
      ]
     },
     "execution_count": 34,
     "metadata": {},
     "output_type": "execute_result"
    }
   ],
   "source": [
    "#Dimensions of the array\n",
    "arr1.ndim"
   ]
  },
  {
   "cell_type": "code",
   "execution_count": 43,
   "id": "92bb2aaf",
   "metadata": {},
   "outputs": [
    {
     "name": "stdout",
     "output_type": "stream",
     "text": [
      "(2, 5)\n",
      "10\n"
     ]
    }
   ],
   "source": [
    "#Shape and size of the array\n",
    "print(arr1.shape)\n",
    "print(arr1.size)"
   ]
  },
  {
   "cell_type": "code",
   "execution_count": 44,
   "id": "ffe919d3",
   "metadata": {},
   "outputs": [
    {
     "data": {
      "text/plain": [
       "dtype('int64')"
      ]
     },
     "execution_count": 44,
     "metadata": {},
     "output_type": "execute_result"
    }
   ],
   "source": [
    "#Data type of the array\n",
    "arr1.dtype"
   ]
  },
  {
   "cell_type": "code",
   "execution_count": null,
   "id": "3eae6ef7",
   "metadata": {},
   "outputs": [
    {
     "data": {
      "text/plain": [
       "array([[0, 1, 2, 3, 4],\n",
       "       [5, 6, 7, 8, 9]])"
      ]
     },
     "execution_count": 41,
     "metadata": {},
     "output_type": "execute_result"
    }
   ],
   "source": [
    "#Arange and reshape\n",
    "arr2=np.arange(10)\n",
    "arr2\n",
    "arr2.reshape(2,5)"
   ]
  },
  {
   "cell_type": "code",
   "execution_count": 49,
   "id": "702aa9cc",
   "metadata": {},
   "outputs": [
    {
     "name": "stdout",
     "output_type": "stream",
     "text": [
      "2\n",
      "10\n"
     ]
    }
   ],
   "source": [
    "#array indexing\n",
    "print(arr1[0, 1])\n",
    "print(arr1[-1, -1])"
   ]
  },
  {
   "cell_type": "code",
   "execution_count": null,
   "id": "7bae4e57",
   "metadata": {},
   "outputs": [
    {
     "name": "stdout",
     "output_type": "stream",
     "text": [
      "[[1 2 3]\n",
      " [4 5 6]]\n",
      "----------------\n",
      "[[ 7  8  9]\n",
      " [10 11 12]]\n",
      "----------------\n",
      "[[ 8 10 12]\n",
      " [14 16 18]]\n"
     ]
    }
   ],
   "source": [
    "# Arithmetic Operations\n",
    "a1 = np.array([[1, 2, 3], [4, 5, 6]])\n",
    "a2 = np.array([[7, 8, 9], [10, 11, 12]])\n",
    "#Addition\n",
    "print(a1)\n",
    "print(\"----------------\")\n",
    "print(a2)\n",
    "print(\"----------------\")\n",
    "print(a1 + a2)"
   ]
  },
  {
   "cell_type": "code",
   "execution_count": 55,
   "id": "3e8ee65c",
   "metadata": {},
   "outputs": [
    {
     "name": "stdout",
     "output_type": "stream",
     "text": [
      "[[1 2 3]\n",
      " [4 5 6]]\n",
      "----------------\n",
      "[[ 7  8  9]\n",
      " [10 11 12]]\n",
      "----------------\n",
      "[[-6 -6 -6]\n",
      " [-6 -6 -6]]\n"
     ]
    }
   ],
   "source": [
    "#Subtraction\n",
    "print(a1)\n",
    "print(\"----------------\")\n",
    "print(a2)   \n",
    "print(\"----------------\")\n",
    "print(a1 - a2)"
   ]
  },
  {
   "cell_type": "code",
   "execution_count": 56,
   "id": "279a4ceb",
   "metadata": {},
   "outputs": [
    {
     "name": "stdout",
     "output_type": "stream",
     "text": [
      "[[1 2 3]\n",
      " [4 5 6]]\n",
      "----------------\n",
      "[[ 7  8  9]\n",
      " [10 11 12]]\n",
      "----------------\n",
      "[[0.14285714 0.25       0.33333333]\n",
      " [0.4        0.45454545 0.5       ]]\n"
     ]
    }
   ],
   "source": [
    "#Division\n",
    "print(a1)   \n",
    "print(\"----------------\")\n",
    "print(a2)\n",
    "print(\"----------------\")\n",
    "print(a1 / a2)"
   ]
  },
  {
   "cell_type": "code",
   "execution_count": 57,
   "id": "95bb6186",
   "metadata": {},
   "outputs": [
    {
     "name": "stdout",
     "output_type": "stream",
     "text": [
      "[[1 2 3]\n",
      " [4 5 6]]\n",
      "----------------\n",
      "[[ 7  8  9]\n",
      " [10 11 12]]\n",
      "----------------\n",
      "[[ 7 16 27]\n",
      " [40 55 72]]\n"
     ]
    }
   ],
   "source": [
    "#Multiplication\n",
    "print(a1)\n",
    "print(\"----------------\")\n",
    "print(a2)\n",
    "print(\"----------------\")\n",
    "print(a1 * a2)"
   ]
  },
  {
   "cell_type": "code",
   "execution_count": 58,
   "id": "9a7a6b46",
   "metadata": {},
   "outputs": [
    {
     "name": "stdout",
     "output_type": "stream",
     "text": [
      "Argmax of a1: 5\n",
      "Argmin of a1: 0\n"
     ]
    }
   ],
   "source": [
    "#Argmax and Argmin\n",
    "print(\"Argmax of a1:\", np.argmax(a1))\n",
    "print(\"Argmin of a1:\", np.argmin(a1))"
   ]
  },
  {
   "cell_type": "code",
   "execution_count": null,
   "id": "2559c270",
   "metadata": {},
   "outputs": [
    {
     "data": {
      "text/plain": [
       "array([0.  , 0.25, 0.5 , 0.75, 1.  ])"
      ]
     },
     "execution_count": 59,
     "metadata": {},
     "output_type": "execute_result"
    }
   ],
   "source": [
    "#Linespace\n",
    "np.linspace(0, 1, 5)"
   ]
  }
 ],
 "metadata": {
  "kernelspec": {
   "display_name": "Python 3",
   "language": "python",
   "name": "python3"
  },
  "language_info": {
   "codemirror_mode": {
    "name": "ipython",
    "version": 3
   },
   "file_extension": ".py",
   "mimetype": "text/x-python",
   "name": "python",
   "nbconvert_exporter": "python",
   "pygments_lexer": "ipython3",
   "version": "3.13.3"
  }
 },
 "nbformat": 4,
 "nbformat_minor": 5
}
