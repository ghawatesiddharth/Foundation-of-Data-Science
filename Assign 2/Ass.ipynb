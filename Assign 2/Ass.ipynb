{
 "cells": [
  {
   "cell_type": "code",
   "execution_count": 11,
   "id": "41e9d82b",
   "metadata": {},
   "outputs": [
    {
     "data": {
      "text/html": [
       "<div>\n",
       "<style scoped>\n",
       "    .dataframe tbody tr th:only-of-type {\n",
       "        vertical-align: middle;\n",
       "    }\n",
       "\n",
       "    .dataframe tbody tr th {\n",
       "        vertical-align: top;\n",
       "    }\n",
       "\n",
       "    .dataframe thead th {\n",
       "        text-align: right;\n",
       "    }\n",
       "</style>\n",
       "<table border=\"1\" class=\"dataframe\">\n",
       "  <thead>\n",
       "    <tr style=\"text-align: right;\">\n",
       "      <th></th>\n",
       "      <th>Student</th>\n",
       "      <th>Gender</th>\n",
       "      <th>Stream</th>\n",
       "      <th>Attendance (%)</th>\n",
       "      <th>Study Hours/Week</th>\n",
       "      <th>Grade</th>\n",
       "      <th>Hostel Resident</th>\n",
       "    </tr>\n",
       "  </thead>\n",
       "  <tbody>\n",
       "    <tr>\n",
       "      <th>0</th>\n",
       "      <td>A</td>\n",
       "      <td>Male</td>\n",
       "      <td>Science</td>\n",
       "      <td>85</td>\n",
       "      <td>10</td>\n",
       "      <td>B</td>\n",
       "      <td>Yes</td>\n",
       "    </tr>\n",
       "    <tr>\n",
       "      <th>1</th>\n",
       "      <td>B</td>\n",
       "      <td>Female</td>\n",
       "      <td>Commerce</td>\n",
       "      <td>92</td>\n",
       "      <td>14</td>\n",
       "      <td>A</td>\n",
       "      <td>No</td>\n",
       "    </tr>\n",
       "    <tr>\n",
       "      <th>2</th>\n",
       "      <td>C</td>\n",
       "      <td>Male</td>\n",
       "      <td>Arts</td>\n",
       "      <td>75</td>\n",
       "      <td>11</td>\n",
       "      <td>C</td>\n",
       "      <td>Yes</td>\n",
       "    </tr>\n",
       "    <tr>\n",
       "      <th>3</th>\n",
       "      <td>D</td>\n",
       "      <td>Female</td>\n",
       "      <td>Science</td>\n",
       "      <td>88</td>\n",
       "      <td>11</td>\n",
       "      <td>B</td>\n",
       "      <td>No</td>\n",
       "    </tr>\n",
       "    <tr>\n",
       "      <th>4</th>\n",
       "      <td>E</td>\n",
       "      <td>Male</td>\n",
       "      <td>Commerce</td>\n",
       "      <td>60</td>\n",
       "      <td>6</td>\n",
       "      <td>D</td>\n",
       "      <td>Yes</td>\n",
       "    </tr>\n",
       "  </tbody>\n",
       "</table>\n",
       "</div>"
      ],
      "text/plain": [
       "  Student  Gender    Stream  Attendance (%)  Study Hours/Week Grade  \\\n",
       "0       A    Male   Science              85                10     B   \n",
       "1       B  Female  Commerce              92                14     A   \n",
       "2       C    Male      Arts              75                11     C   \n",
       "3       D  Female   Science              88                11     B   \n",
       "4       E    Male  Commerce              60                 6     D   \n",
       "\n",
       "  Hostel Resident  \n",
       "0             Yes  \n",
       "1              No  \n",
       "2             Yes  \n",
       "3              No  \n",
       "4             Yes  "
      ]
     },
     "execution_count": 11,
     "metadata": {},
     "output_type": "execute_result"
    }
   ],
   "source": [
    "# Name: Ghawate Siddharth\n",
    "# Roll.no: 53\n",
    "# Division: A\n",
    "\n",
    "import pandas as pd\n",
    "\n",
    "sampledata = {\n",
    "    'Student': ['A', 'B', 'C', 'D', 'E'],\n",
    "    'Gender': ['Male', 'Female', 'Male', 'Female', 'Male'],\n",
    "    'Stream': ['Science', 'Commerce', 'Arts', 'Science', 'Commerce'],\n",
    "    'Attendance (%)': [85, 92, 75, 88, 60],\n",
    "    'Study Hours/Week': [10, 14, 11, 11, 6],\n",
    "    'Grade': ['B', 'A', 'C', 'B', 'D'],\n",
    "    'Hostel Resident': ['Yes', 'No', 'Yes', 'No', 'Yes'],\n",
    "}\n",
    "\n",
    "sample_df = pd.DataFrame(sampledata)\n",
    "sample_df\n"
   ]
  },
  {
   "cell_type": "code",
   "execution_count": 12,
   "id": "c796ad92",
   "metadata": {},
   "outputs": [
    {
     "name": "stdout",
     "output_type": "stream",
     "text": [
      "Student: Qualitative - Nominal\n",
      "Gender: Qualitative - Nominal\n",
      "Stream: Qualitative - Nominal\n",
      "Attendance (%): Quantitative - Continuous\n",
      "Study Hours/Week: Quantitative - Discrete\n",
      "Grade: Qualitative - Ordinal\n",
      "Hostel Resident: Qualitative - Nominal\n"
     ]
    }
   ],
   "source": [
    "# Corrected column_types dictionary for sampledata\n",
    "column_types = {\n",
    "    'Student': 'Qualitative - Nominal',\n",
    "    'Gender': 'Qualitative - Nominal',\n",
    "    'Stream': 'Qualitative - Nominal',\n",
    "    'Attendance (%)': 'Quantitative - Continuous',\n",
    "    'Study Hours/Week': 'Quantitative - Discrete',\n",
    "    'Grade': 'Qualitative - Ordinal',\n",
    "    'Hostel Resident': 'Qualitative - Nominal',\n",
    "}\n",
    "\n",
    "for col, dtype in column_types.items():\n",
    "    print(f\"{col}: {dtype}\")\n"
   ]
  },
  {
   "cell_type": "code",
   "execution_count": 13,
   "id": "a1db3f5c",
   "metadata": {},
   "outputs": [
    {
     "data": {
      "text/plain": [
       "Student             object\n",
       "Gender              object\n",
       "Stream              object\n",
       "Attendance (%)       int64\n",
       "Study Hours/Week     int64\n",
       "Grade               object\n",
       "Hostel Resident     object\n",
       "dtype: object"
      ]
     },
     "execution_count": 13,
     "metadata": {},
     "output_type": "execute_result"
    }
   ],
   "source": [
    "# Pandas inferred data types\n",
    "sample_df.dtypes\n"
   ]
  },
  {
   "cell_type": "code",
   "execution_count": 14,
   "id": "3504b702",
   "metadata": {},
   "outputs": [
    {
     "name": "stdout",
     "output_type": "stream",
     "text": [
      "dlroW olleH\n"
     ]
    }
   ],
   "source": [
    "#Reverse string\n",
    "def revstring(s) :\n",
    "    rev = \"\"\n",
    "    for char in s:\n",
    "        rev = char + rev\n",
    "    return rev\n",
    "text = \"Hello World\"\n",
    "print(revstring(text))"
   ]
  },
  {
   "cell_type": "code",
   "execution_count": 15,
   "id": "f8a63a66",
   "metadata": {},
   "outputs": [
    {
     "name": "stdout",
     "output_type": "stream",
     "text": [
      "01248163264128256"
     ]
    }
   ],
   "source": [
    "#fibonacci series\n",
    "n = 10\n",
    "a=0\n",
    "b=1\n",
    "for i in range(n):\n",
    "    print(a,end='')\n",
    "    a = b\n",
    "    b = a + b"
   ]
  },
  {
   "cell_type": "code",
   "execution_count": 16,
   "id": "106e9060",
   "metadata": {},
   "outputs": [
    {
     "name": "stdout",
     "output_type": "stream",
     "text": [
      "2 3 5 7 11 13 17 19 23 29 31 37 41 43 47 "
     ]
    }
   ],
   "source": [
    "for num in range(2, 51):\n",
    "    for i in range(2, int(num**0.5) + 1):\n",
    "        if num % i == 0:\n",
    "            break\n",
    "    else:\n",
    "        print(num, end=\" \")\n"
   ]
  },
  {
   "cell_type": "code",
   "execution_count": 17,
   "id": "1f6da323",
   "metadata": {},
   "outputs": [
    {
     "name": "stdout",
     "output_type": "stream",
     "text": [
      "Factorial of 0 is 1\n"
     ]
    }
   ],
   "source": [
    "n = 0\n",
    "fact = 1\n",
    "for i in range(1, n+1):\n",
    "    fact *= i\n",
    "print(\"Factorial of\", n, \"is\", fact)\n"
   ]
  },
  {
   "cell_type": "code",
   "execution_count": 18,
   "id": "21961339",
   "metadata": {},
   "outputs": [
    {
     "name": "stdout",
     "output_type": "stream",
     "text": [
      "    *\n",
      "   ***\n",
      "  *****\n",
      " *******\n",
      "*********\n"
     ]
    }
   ],
   "source": [
    "rows = 5\n",
    "for i in range(1, rows+1):\n",
    "    print(\" \" * (rows-i) + \"*\" * (2*i-1))\n"
   ]
  },
  {
   "cell_type": "code",
   "execution_count": 19,
   "id": "390d6806",
   "metadata": {},
   "outputs": [
    {
     "name": "stdout",
     "output_type": "stream",
     "text": [
      "1 \n",
      "1 2 \n",
      "1 2 3 \n",
      "1 2 3 4 \n",
      "1 2 3 4 5 \n"
     ]
    }
   ],
   "source": [
    "rows = 5\n",
    "for i in range(1, rows+1):\n",
    "    for j in range(1, i+1):\n",
    "        print(j, end=\" \")\n",
    "    print()\n"
   ]
  },
  {
   "cell_type": "code",
   "execution_count": 20,
   "id": "90f2900d",
   "metadata": {},
   "outputs": [
    {
     "name": "stdout",
     "output_type": "stream",
     "text": [
      "*****\n",
      "****\n",
      "***\n",
      "**\n",
      "*\n"
     ]
    }
   ],
   "source": [
    "rows = 5\n",
    "for i in range(rows, 0, -1):\n",
    "    print(\"*\" * i)\n"
   ]
  },
  {
   "cell_type": "code",
   "execution_count": null,
   "id": "2cf5ca11",
   "metadata": {},
   "outputs": [],
   "source": []
  }
 ],
 "metadata": {
  "kernelspec": {
   "display_name": "Python 3",
   "language": "python",
   "name": "python3"
  },
  "language_info": {
   "codemirror_mode": {
    "name": "ipython",
    "version": 3
   },
   "file_extension": ".py",
   "mimetype": "text/x-python",
   "name": "python",
   "nbconvert_exporter": "python",
   "pygments_lexer": "ipython3",
   "version": "3.13.3"
  }
 },
 "nbformat": 4,
 "nbformat_minor": 5
}
