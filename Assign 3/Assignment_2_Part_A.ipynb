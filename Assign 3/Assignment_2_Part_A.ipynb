{
 "cells": [
  {
   "cell_type": "code",
   "execution_count": null,
   "metadata": {},
   "outputs": [],
   "source": [
    "#PANDAS Library\n",
    "import pandas as pd\n",
    "\n",
    "# Creating a Series\n",
    "s = pd.Series([10, 20, 30, 40, 50], index=['a','b','c','d','e'])\n",
    "\n",
    "print(\"Pandas Series:\")\n",
    "print(s)\n",
    "print(\"\\nAccess single value:\", s['c'])\n"
   ]
  },
  {
   "cell_type": "code",
   "execution_count": null,
   "metadata": {},
   "outputs": [],
   "source": [
    "type(s)"
   ]
  },
  {
   "cell_type": "code",
   "execution_count": null,
   "metadata": {},
   "outputs": [],
   "source": [
    "# Creating a DataFrame\n",
    "data = {\n",
    "    'Name': ['Amit', 'Riya', 'Karan'],\n",
    "    'Age': [21, 20, 23],\n",
    "    'Marks': [88, 92, 76]\n",
    "}\n",
    "\n",
    "df = pd.DataFrame(data)\n",
    "\n",
    "print(\"Pandas DataFrame:\")\n",
    "print(df)\n",
    "print(\"\\nAccess single column (as Series):\")\n",
    "print(df['Marks'])"
   ]
  },
  {
   "cell_type": "code",
   "execution_count": null,
   "metadata": {},
   "outputs": [],
   "source": [
    "type(df)"
   ]
  },
  {
   "cell_type": "code",
   "execution_count": 1,
   "metadata": {},
   "outputs": [
    {
     "ename": "NameError",
     "evalue": "name 'pd' is not defined",
     "output_type": "error",
     "traceback": [
      "\u001b[0;31m---------------------------------------------------------------------------\u001b[0m",
      "\u001b[0;31mNameError\u001b[0m                                 Traceback (most recent call last)",
      "Cell \u001b[0;32mIn[1], line 1\u001b[0m\n\u001b[0;32m----> 1\u001b[0m pd\u001b[39m.\u001b[39mread_csv(\u001b[39m\"\u001b[39m\u001b[39mdata.csv\u001b[39m\u001b[39m\"\u001b[39m)         \u001b[39m# load CSV file\u001b[39;00m\n\u001b[1;32m      2\u001b[0m pd\u001b[39m.\u001b[39mread_excel(\u001b[39m\"\u001b[39m\u001b[39mdata.xlsx\u001b[39m\u001b[39m\"\u001b[39m)      \u001b[39m# load Excel file\u001b[39;00m\n\u001b[1;32m      3\u001b[0m pd\u001b[39m.\u001b[39mread_json(\u001b[39m\"\u001b[39m\u001b[39mdata.json\u001b[39m\u001b[39m\"\u001b[39m)       \u001b[39m# load JSON file\u001b[39;00m\n",
      "\u001b[0;31mNameError\u001b[0m: name 'pd' is not defined"
     ]
    }
   ],
   "source": [
    "#for information only\n",
    "pd.read_csv(\"data.csv\")         # load CSV file\n",
    "pd.read_excel(\"data.xlsx\")      # load Excel file\n",
    "pd.read_json(\"data.json\")       # load JSON file\n",
    "df.to_csv(\"output.csv\", index=False)   # save to CSV"
   ]
  },
  {
   "cell_type": "code",
   "execution_count": 2,
   "metadata": {},
   "outputs": [],
   "source": [
    "#perform arithmatic operation\n",
    "s = pd.Series([10, 20, 30, 40, 50])\n",
    "print(\"Original:\\n\", s)\n",
    "print(\"\\nMultiplied by 2:\\n\", s * 2)"
   ]
  },
  {
   "cell_type": "code",
   "execution_count": null,
   "metadata": {},
   "outputs": [],
   "source": [
    "df['Name']             # select single column\n",
    "df[['Name','Marks']]   # select multiple columns\n",
    "df.iloc[0]             # first row by index\n",
    "df.iloc[1:4]           # rows by index range\n",
    "df.loc[df['Marks']>85] # filter condition"
   ]
  },
  {
   "cell_type": "code",
   "execution_count": null,
   "metadata": {},
   "outputs": [],
   "source": [
    "df.head()        # first 5 rows\n",
    "df.tail()        # last 5 rows\n",
    "df.shape         # (rows, columns)\n",
    "df.info()        # summary (data types, non-null count)\n",
    "df.dtypes        # data types of each column\n",
    "df.describe()    # summary statistics (mean, std, min, max, etc.)\n",
    "df.columns       # list of column names\n",
    "df.index         # row index"
   ]
  },
  {
   "cell_type": "code",
   "execution_count": null,
   "metadata": {},
   "outputs": [],
   "source": [
    "df.describe()          # summary statistics (mean, std, min, max, etc.)\n",
    "df['Marks'].mean()     # average marks\n",
    "df['Marks'].median()   # median\n",
    "df['Marks'].max()      # maximum value\n",
    "df['Marks'].min()      # minimum value\n",
    "df['Marks'].sum()      # sum of column\n",
    "df['Marks'].value_counts()  # frequency count"
   ]
  }
 ],
 "metadata": {
  "kernelspec": {
   "display_name": "Python 3.10.2 64-bit",
   "language": "python",
   "name": "python3"
  },
  "language_info": {
   "codemirror_mode": {
    "name": "ipython",
    "version": 3
   },
   "file_extension": ".py",
   "mimetype": "text/x-python",
   "name": "python",
   "nbconvert_exporter": "python",
   "pygments_lexer": "ipython3",
   "version": "3.10.2"
  },
  "orig_nbformat": 4,
  "vscode": {
   "interpreter": {
    "hash": "aee8b7b246df8f9039afb4144a1f6fd8d2ca17a180786b69acc140d282b71a49"
   }
  }
 },
 "nbformat": 4,
 "nbformat_minor": 2
}
