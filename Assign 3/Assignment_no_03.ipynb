{
 "cells": [
  {
   "cell_type": "markdown",
   "metadata": {},
   "source": [
    "Assignment No-03 :- Assignment based on calculations of the Central Tendency measures,"
   ]
  },
  {
   "cell_type": "markdown",
   "metadata": {},
   "source": [
    "Without Using Inbuilt Functions"
   ]
  },
  {
   "cell_type": "code",
   "execution_count": 12,
   "metadata": {},
   "outputs": [
    {
     "name": "stdout",
     "output_type": "stream",
     "text": [
      "\n",
      "Without Using Inbuilt Functions:\n",
      "Mean: 15.8\n",
      "Median: 16.0\n",
      "Mode: [12]\n"
     ]
    }
   ],
   "source": [
    "# Program to calculate Mean, Median and Mode without using inbuilt functions\n",
    "\n",
    "data = [12, 15, 12, 18, 19, 12, 17, 20, 18, 15]\n",
    "\n",
    "#Mean\n",
    "def calculate_mean(data):\n",
    "    return sum(data) / len(data)\n",
    "\n",
    "#Median\n",
    "def calculate_median(data):\n",
    "    sorted_data = sorted(data)\n",
    "    n = len(sorted_data)\n",
    "    mid = n // 2\n",
    "    if n % 2 == 0:\n",
    "        median = (sorted_data[mid - 1] + sorted_data[mid]) / 2\n",
    "    else:\n",
    "        median = sorted_data[mid]\n",
    "    return median\n",
    "\n",
    "#Mode\n",
    "def calculate_mode(data):\n",
    "    freq = {}\n",
    "    for val in data:\n",
    "        freq[val] = freq.get(val, 0) + 1\n",
    "    max_freq = max(freq.values())\n",
    "    mode = [key for key, value in freq.items() if value == max_freq]\n",
    "    return mode\n",
    "\n",
    "print(\"\\nWithout Using Inbuilt Functions:\")\n",
    "print(\"Mean:\", calculate_mean(data))\n",
    "print(\"Median:\", calculate_median(data))\n",
    "print(\"Mode:\", calculate_mode(data))\n"
   ]
  },
  {
   "cell_type": "markdown",
   "metadata": {},
   "source": [
    "Using Inbuilt Functions"
   ]
  },
  {
   "cell_type": "code",
   "execution_count": 13,
   "metadata": {},
   "outputs": [
    {
     "name": "stdout",
     "output_type": "stream",
     "text": [
      "Using Inbuilt Functions:\n",
      "Mean: 15.8\n",
      "Median: 16.0\n",
      "Mode: 12\n"
     ]
    }
   ],
   "source": [
    "# Program to calculate Mean, Median and Mode using inbuilt functions\n",
    "\n",
    "import statistics as stats\n",
    "\n",
    "data = [12, 15, 12, 18, 19, 12, 17, 20, 18, 15]\n",
    "\n",
    "# Mean\n",
    "mean_value = stats.mean(data)\n",
    "\n",
    "# Median\n",
    "median_value = stats.median(data)\n",
    "\n",
    "# Mode\n",
    "mode_value = stats.mode(data)\n",
    "\n",
    "print(\"Using Inbuilt Functions:\")\n",
    "print(\"Mean:\", mean_value)\n",
    "print(\"Median:\", median_value)\n",
    "print(\"Mode:\", mode_value)\n"
   ]
  },
  {
   "cell_type": "markdown",
   "metadata": {},
   "source": [
    "Practice Purpose Example using Pandas"
   ]
  },
  {
   "cell_type": "markdown",
   "metadata": {},
   "source": [
    "Student,Marks\n",
    "S1,78\n",
    "S2,65\n",
    "S3,80\n",
    "S4,92\n",
    "S5,85\n",
    "S6,75\n",
    "S7,88\n",
    "S8,90\n",
    "S9,70\n",
    "S10,85\n"
   ]
  },
  {
   "cell_type": "markdown",
   "metadata": {},
   "source": [
    "import pandas as pd\n",
    "\n",
    "df = pd.read_csv('student_marks.csv')\n",
    "data = df['Marks'].tolist()\n",
    "print(data)\n"
   ]
  },
  {
   "cell_type": "markdown",
   "metadata": {},
   "source": [
    "# Expected Output\n",
    "Mean using inbuilt function: \n",
    "Median using inbuilt function: \n",
    "Mode using inbuilt function: \n",
    "Mean without inbuilt function: \n",
    "Median without inbuilt function: \n",
    "Mode without inbuilt function: \n",
    "\n"
   ]
  }
 ],
 "metadata": {
  "kernelspec": {
   "display_name": "Python 3.10.2 64-bit",
   "language": "python",
   "name": "python3"
  },
  "language_info": {
   "codemirror_mode": {
    "name": "ipython",
    "version": 3
   },
   "file_extension": ".py",
   "mimetype": "text/x-python",
   "name": "python",
   "nbconvert_exporter": "python",
   "pygments_lexer": "ipython3",
   "version": "3.10.2"
  },
  "orig_nbformat": 4,
  "vscode": {
   "interpreter": {
    "hash": "aee8b7b246df8f9039afb4144a1f6fd8d2ca17a180786b69acc140d282b71a49"
   }
  }
 },
 "nbformat": 4,
 "nbformat_minor": 2
}
